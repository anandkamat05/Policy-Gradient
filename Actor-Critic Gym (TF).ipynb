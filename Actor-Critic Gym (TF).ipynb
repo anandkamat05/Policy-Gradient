{
 "cells": [
  {
   "cell_type": "code",
   "execution_count": 2,
   "metadata": {},
   "outputs": [],
   "source": [
    "%matplotlib inline\n",
    "import tensorflow as tf\n",
    "import numpy as np\n",
    "import gym"
   ]
  },
  {
   "cell_type": "code",
   "execution_count": 3,
   "metadata": {},
   "outputs": [],
   "source": [
    "env = gym.make('CartPole-v0')"
   ]
  },
  {
   "cell_type": "code",
   "execution_count": null,
   "metadata": {},
   "outputs": [],
   "source": [
    "class Actor():\n",
    "    def __init__(self, n_features, n_actions, lr = 0.001):\n",
    "        self.state = tf.placeholder(tf.float32, [1, n_features], \"state\")\n",
    "        self.action = tf.placeholder(tf.int32, None, \"action\")\n",
    "        self.target = tf.placeholder(tf.float32, None, \"TD_Error\")\n",
    "        \n",
    "        with tf.variable_scope('Actor'):\n",
    "            layer1 = tf.layers.dense(\n",
    "                inputs = self.state,\n",
    "                units = 20, #hidden units\n",
    "                activation = tf.nn.relu,\n",
    "                kernel_initializer = tf.random_normal_initializer(0, 0.1), #Initializing weights\n",
    "                bias_initializer = tf.constant_initializer(0.1), #Adding bias\n",
    "                name = \"Layer_1\" \n",
    "            )\n",
    "            \n",
    "            #Second layer with inputs from Layer 1 and outputs action probs\n",
    "            self.action_probs = tf.layers.dense(\n",
    "                inputs = layer1,\n",
    "                units = n_actions, \n",
    "                activation = tf.nn.relu,\n",
    "                kernel_initializer = tf.random_normal_initializer(0, 0.1), #Initializing weights\n",
    "                bias_initializer = tf.constant_initializer(0.1), #Adding bias\n",
    "                name = \"Action_Prob Layer\" \n",
    "            )\n",
    "        "
   ]
  },
  {
   "cell_type": "code",
   "execution_count": null,
   "metadata": {},
   "outputs": [],
   "source": []
  },
  {
   "cell_type": "code",
   "execution_count": null,
   "metadata": {},
   "outputs": [],
   "source": []
  },
  {
   "cell_type": "code",
   "execution_count": null,
   "metadata": {},
   "outputs": [],
   "source": []
  },
  {
   "cell_type": "code",
   "execution_count": null,
   "metadata": {},
   "outputs": [],
   "source": []
  },
  {
   "cell_type": "code",
   "execution_count": null,
   "metadata": {},
   "outputs": [],
   "source": []
  },
  {
   "cell_type": "code",
   "execution_count": null,
   "metadata": {},
   "outputs": [],
   "source": []
  }
 ],
 "metadata": {
  "kernelspec": {
   "display_name": "Python 3",
   "language": "python",
   "name": "python3"
  },
  "language_info": {
   "codemirror_mode": {
    "name": "ipython",
    "version": 3
   },
   "file_extension": ".py",
   "mimetype": "text/x-python",
   "name": "python",
   "nbconvert_exporter": "python",
   "pygments_lexer": "ipython3",
   "version": "3.6.6"
  }
 },
 "nbformat": 4,
 "nbformat_minor": 2
}
